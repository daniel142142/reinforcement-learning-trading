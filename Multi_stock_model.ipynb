{
 "cells": [
  {
   "cell_type": "markdown",
   "id": "ad136539-1632-41a1-b625-d6d806b147ee",
   "metadata": {},
   "source": [
    "# Using a Deep Q-Network on a multi-stock portfolio"
   ]
  },
  {
   "cell_type": "markdown",
   "id": "62837799-cce5-4bc9-b240-b1c27ab13934",
   "metadata": {},
   "source": [
    "## Retrieving Data"
   ]
  },
  {
   "cell_type": "code",
   "execution_count": 26,
   "id": "e881aa50-47ba-4b49-9f9f-ed3ecf8cf5b1",
   "metadata": {},
   "outputs": [],
   "source": [
    "import pandas as pd\n",
    "import matplotlib.pyplot as plt\n",
    "from alpha_vantage.timeseries import TimeSeries\n",
    "from alpha_vantage.techindicators import TechIndicators\n",
    "from alpha_vantage.fundamentaldata import FundamentalData\n",
    "import numpy as np\n",
    "import yfinance as yf"
   ]
  },
  {
   "cell_type": "code",
   "execution_count": 27,
   "id": "99689fa5-4304-4a36-b4da-96c7d6f0a7c3",
   "metadata": {},
   "outputs": [],
   "source": [
    "key = 'L49TNJ1SKAPIG4BA'"
   ]
  },
  {
   "cell_type": "markdown",
   "id": "e23e14db-84b4-4fc2-8266-442f446c4d33",
   "metadata": {},
   "source": [
    "### Function to retrieve data"
   ]
  },
  {
   "cell_type": "code",
   "execution_count": 30,
   "id": "b8afaef1-e338-4c0e-b708-69c1c94423f7",
   "metadata": {},
   "outputs": [],
   "source": [
    "def retrieve_data(tickr):\n",
    "    ts = TimeSeries(key, output_format = 'pandas')\n",
    "    data = yf.download(tickr)\n",
    "    columns = ['Open', 'High', 'Low', 'Close', 'Volume']\n",
    "    data.columns = columns\n",
    "    data = data.sort_index(ascending=True)\n",
    "    data['Change Percentage'] = data['Close'].pct_change() * 100\n",
    "    data['Force Index'] = data['Close'].diff() * data['Volume']\n",
    "    \n",
    "    typical_price = (data['High'] + data['Low'] + data['Close']) / 3\n",
    "    raw_money_flow = typical_price * data['Volume']\n",
    "    money_flow_direction = typical_price.diff()\n",
    "    positive_flow = raw_money_flow.where(money_flow_direction > 0, 0)\n",
    "    negative_flow = raw_money_flow.where(money_flow_direction < 0, 0)\n",
    "    positive_mf = positive_flow.rolling(window=14, min_periods=0).sum()\n",
    "    negative_mf = negative_flow.rolling(window=14, min_periods=0).sum()\n",
    "    with np.errstate(divide='ignore', invalid='ignore'):\n",
    "        money_ratio = positive_mf / negative_mf\n",
    "        data['Money Flow Index'] = 100 - (100 / (1 + money_ratio))\n",
    "        data['Money Flow Index'].replace([np.inf], 100, inplace=True)\n",
    "\n",
    "    data['Price-Volume'] = (data['Close'].pct_change() * data['Volume']).cumsum()\n",
    "    data['Standard Deviation'] = data['Close'].rolling(window=20).std()\n",
    "    ti = TechIndicators(key, output_format = 'pandas')\n",
    "    roc, meta = ti.get_roc(tickr)\n",
    "    data['ROC'] = roc['ROC']\n",
    "    return data"
   ]
  },
  {
   "cell_type": "code",
   "execution_count": 32,
   "id": "f1d66de2-b148-43cf-bf2e-0bbe12fc6056",
   "metadata": {},
   "outputs": [
    {
     "name": "stderr",
     "output_type": "stream",
     "text": [
      "[*********************100%***********************]  1 of 1 completed\n",
      "/var/folders/jk/qtzrzz695z1gpn8f1qgj7n2m0000gn/T/ipykernel_6951/573803762.py:20: FutureWarning: A value is trying to be set on a copy of a DataFrame or Series through chained assignment using an inplace method.\n",
      "The behavior will change in pandas 3.0. This inplace method will never work because the intermediate object on which we are setting values always behaves as a copy.\n",
      "\n",
      "For example, when doing 'df[col].method(value, inplace=True)', try using 'df.method({col: value}, inplace=True)' or df[col] = df[col].method(value) instead, to perform the operation inplace on the original object.\n",
      "\n",
      "\n",
      "  data['Money Flow Index'].replace([np.inf], 100, inplace=True)\n"
     ]
    },
    {
     "name": "stdout",
     "output_type": "stream",
     "text": [
      "                  Open        High         Low       Close     Volume  \\\n",
      "Date                                                                    \n",
      "1980-12-12    0.098597    0.099025    0.098597    0.098597  469033600   \n",
      "1980-12-15    0.093453    0.093881    0.093453    0.093881  175884800   \n",
      "1980-12-16    0.086594    0.087022    0.086594    0.087022  105728000   \n",
      "1980-12-17    0.088737    0.089165    0.088737    0.088737   86441600   \n",
      "1980-12-18    0.091310    0.091738    0.091310    0.091310   73449600   \n",
      "...                ...         ...         ...         ...        ...   \n",
      "2025-07-07  209.949997  216.229996  208.800003  212.679993   50229000   \n",
      "2025-07-08  210.009995  211.429993  208.449997  210.100006   42848900   \n",
      "2025-07-09  211.139999  211.330002  207.220001  209.529999   48749400   \n",
      "2025-07-10  212.410004  213.479996  210.029999  210.509995   44443600   \n",
      "2025-07-11  211.160004  212.130005  209.860001  210.570007   39719300   \n",
      "\n",
      "            Change Percentage   Force Index  Money Flow Index  Price-Volume  \\\n",
      "Date                                                                          \n",
      "1980-12-12                NaN           NaN               NaN           NaN   \n",
      "1980-12-15          -4.782359 -8.293401e+05          0.000000 -8.411442e+06   \n",
      "1980-12-16          -7.306282 -7.252139e+05          0.000000 -1.613623e+07   \n",
      "1980-12-17           1.970360  1.482171e+05         23.033285 -1.443302e+07   \n",
      "1980-12-18           2.899248  1.889638e+05         35.934714 -1.230353e+07   \n",
      "...                       ...           ...               ...           ...   \n",
      "2025-07-07           0.249823  2.662131e+07         67.670670  2.821357e+09   \n",
      "2025-07-08          -1.213084 -1.105496e+08         67.468182  2.820837e+09   \n",
      "2025-07-09          -0.271303 -2.778752e+07         66.453811  2.820704e+09   \n",
      "2025-07-10           0.467711  4.355454e+07         71.777293  2.820912e+09   \n",
      "2025-07-11           0.028508  2.383667e+06         64.599724  2.820924e+09   \n",
      "\n",
      "            Standard Deviation     ROC  \n",
      "Date                                    \n",
      "1980-12-12                 NaN     NaN  \n",
      "1980-12-15                 NaN     NaN  \n",
      "1980-12-16                 NaN     NaN  \n",
      "1980-12-17                 NaN     NaN  \n",
      "1980-12-18                 NaN     NaN  \n",
      "...                        ...     ...  \n",
      "2025-07-07            4.605267  4.6454  \n",
      "2025-07-08            4.907963  2.9865  \n",
      "2025-07-09            5.121430  4.8101  \n",
      "2025-07-10            5.338417  4.8058  \n",
      "2025-07-11            5.559085  6.2280  \n",
      "\n",
      "[11235 rows x 11 columns]\n"
     ]
    },
    {
     "data": {
      "text/plain": [
       "[<matplotlib.lines.Line2D at 0x301817a70>]"
      ]
     },
     "execution_count": 32,
     "metadata": {},
     "output_type": "execute_result"
    },
    {
     "data": {
      "image/png": "[encoded data removed]",
      "text/plain": [
       "<Figure size 640x480 with 1 Axes>"
      ]
     },
     "metadata": {},
     "output_type": "display_data"
    }
   ],
   "source": [
    "apple_data = retrieve_data('AAPL')\n",
    "print(apple_data)\n",
    "plt.plot(apple_data['Close'])"
   ]
  },
  {
   "cell_type": "markdown",
   "id": "8e397e95-2c46-480c-af5f-9e4343ce3bf8",
   "metadata": {},
   "source": [
    "### Seperating test and train data"
   ]
  },
  {
   "cell_type": "code",
   "execution_count": 33,
   "id": "cb7351a4-0fc1-4d7f-ac3a-6315f187ea51",
   "metadata": {},
   "outputs": [],
   "source": [
    "def split_data(data, start, end, test_start, test_end):\n",
    "    train_data = data.loc[start : end]\n",
    "    test_data = data.loc[test_start : test_end]\n",
    "    return train_data, test_data"
   ]
  },
  {
   "cell_type": "code",
   "execution_count": 34,
   "id": "a8dd3c25-fd69-427a-9c37-ab236d26bea6",
   "metadata": {},
   "outputs": [],
   "source": [
    "apple_train, apple_test = split_data(apple_data, '2012-02-01', '2022-04-06', '2022-04-07', '2025-01-01')"
   ]
  },
  {
   "cell_type": "code",
   "execution_count": 35,
   "id": "438bf80b-1904-42ab-8a84-936f0053eb0b",
   "metadata": {},
   "outputs": [
    {
     "name": "stdout",
     "output_type": "stream",
     "text": [
      "                  Open        High         Low       Close     Volume  \\\n",
      "Date                                                                    \n",
      "2012-02-01   13.710421   13.794573   13.691187   13.777142  270046000   \n",
      "2012-02-02   13.678263   13.739873   13.644001   13.701705  186796400   \n",
      "2012-02-03   13.815306   13.824923   13.691483   13.743778  286599600   \n",
      "2012-02-06   13.944243   13.974598   13.770832   13.776241  249412800   \n",
      "2012-02-07   14.090307   14.117958   13.962576   13.982713  316223600   \n",
      "...                ...         ...         ...         ...        ...   \n",
      "2022-03-31  171.600815  174.961874  171.394427  174.775146  103049300   \n",
      "2022-04-01  171.305969  171.866153  168.976818  171.030796   78751300   \n",
      "2022-04-04  175.364792  175.413933  171.433727  171.561492   76468400   \n",
      "2022-04-05  172.043060  175.227228  171.414090  174.441012   73401800   \n",
      "2022-04-06  168.868713  170.637695  167.198014  169.389578   89058800   \n",
      "\n",
      "            Change Percentage   Force Index  Money Flow Index  Price-Volume  \\\n",
      "Date                                                                          \n",
      "2012-02-01           0.618999  2.288795e+07         55.310340  2.703256e+09   \n",
      "2012-02-02          -0.547551 -1.409135e+07         55.420401  2.702233e+09   \n",
      "2012-02-03           0.307063  1.205805e+07         60.311163  2.703114e+09   \n",
      "2012-02-06           0.236205  8.096820e+06         60.516014  2.703703e+09   \n",
      "2012-02-07           1.498755  6.529136e+07         61.014490  2.708442e+09   \n",
      "...                       ...           ...               ...           ...   \n",
      "2022-03-31          -0.397625 -7.190005e+07         77.342471  2.831165e+09   \n",
      "2022-04-01          -2.142381 -2.948724e+08         78.343863  2.829478e+09   \n",
      "2022-04-04           0.310293  4.058146e+07         78.273485  2.829715e+09   \n",
      "2022-04-05           1.678419  2.113620e+08         77.960749  2.830947e+09   \n",
      "2022-04-06          -2.895784 -4.498747e+08         71.297078  2.828368e+09   \n",
      "\n",
      "            Standard Deviation      ROC  \n",
      "Date                                     \n",
      "2012-02-01            0.432452  10.9331  \n",
      "2012-02-02            0.435428  10.0813  \n",
      "2012-02-03            0.442586   9.9634  \n",
      "2012-02-06            0.452782   9.8414  \n",
      "2012-02-07            0.480434  11.1683  \n",
      "...                        ...      ...  \n",
      "2022-03-31            8.069858   5.0412  \n",
      "2022-04-01            8.328417   6.8272  \n",
      "2022-04-04            8.568385  12.0151  \n",
      "2022-04-05            8.787830  11.1916  \n",
      "2022-04-06            8.789498   5.4495  \n",
      "\n",
      "[2563 rows x 11 columns]\n"
     ]
    }
   ],
   "source": [
    "print(apple_train)"
   ]
  },
  {
   "cell_type": "markdown",
   "id": "80574de0-e18a-4489-af3e-c6e19ecf87b7",
   "metadata": {},
   "source": [
    "Creating close price dataframe"
   ]
  },
  {
   "cell_type": "code",
   "execution_count": 36,
   "id": "be918bf5-1f2c-4398-958f-23b0d37cf2c8",
   "metadata": {},
   "outputs": [],
   "source": [
    "def retrieve_close(train_data, test_data):\n",
    "    train_close = train_data['Close']\n",
    "    test_close = test_data['Close']\n",
    "    return train_close, test_close"
   ]
  },
  {
   "cell_type": "code",
   "execution_count": 38,
   "id": "7dec8e6b-ff20-448e-a685-cb6e5ab79786",
   "metadata": {},
   "outputs": [],
   "source": [
    "apple_train_close, apple_test_close = retrieve_close(apple_train, apple_test)"
   ]
  },
  {
   "cell_type": "markdown",
   "id": "31bb9432-86a8-4a80-94c0-7c782a8af5ea",
   "metadata": {},
   "source": [
    "### Normalising data"
   ]
  },
  {
   "cell_type": "code",
   "execution_count": 39,
   "id": "3adebf4a-5496-46e9-8806-eb7d71c16fda",
   "metadata": {},
   "outputs": [],
   "source": [
    "from sklearn.preprocessing import MinMaxScaler\n",
    "from sklearn.decomposition import PCA\n",
    "\n",
    "def PCA_transform(train_data, test_data):\n",
    "    # Scaling train data\n",
    "    state_features = pd.DataFrame({\n",
    "        'ROC': train_data['ROC'],\n",
    "        'Volume': train_data['Volume'],\n",
    "        'Change Percentage': train_data['Change Percentage'],\n",
    "        'Force Index': train_data['Force Index'],\n",
    "        'Money Flow Index': train_data['Money Flow Index'],\n",
    "        'Price-Volume': train_data['Price-Volume'],\n",
    "        'Standard Deviation': train_data['Standard Deviation']\n",
    "    })\n",
    "    scaler = MinMaxScaler() # Creating scaler object\n",
    "    scaled_features_array = scaler.fit_transform(state_features)\n",
    "    scaled_data = pd.DataFrame(scaled_features_array, columns=state_features.columns, index=state_features.index)\n",
    "\n",
    "    # Train data PCA transform\n",
    "    pca = PCA(n_components=0.95)\n",
    "    X_train_pca = pca.fit_transform(scaled_data)\n",
    "\n",
    "    # Scaling test data\n",
    "    test_features = pd.DataFrame({\n",
    "        'ROC': test_data['ROC'],\n",
    "        'Volume': test_data['Volume'],\n",
    "        'Change Percentage': test_data['Change Percentage'],\n",
    "        'Force Index': test_data['Force Index'],\n",
    "        'Money Flow Index': test_data['Money Flow Index'],\n",
    "        'Price-Volume': test_data['Price-Volume'],\n",
    "        'Standard Deviation': test_data['Standard Deviation']\n",
    "    })\n",
    "    scaled_test_features_array = scaler.transform(test_features) # Using ssame scaler object as train data\n",
    "    scaled_test_data = pd.DataFrame(scaled_test_features_array, columns=test_features.columns)\n",
    "\n",
    "    # PCA transform on test data\n",
    "    X_test_pca = pca.transform(scaled_test_data)\n",
    "\n",
    "    return X_train_pca, X_test_pca\n",
    "\n"
   ]
  },
  {
   "cell_type": "code",
   "execution_count": 40,
   "id": "2228c213-7016-44a5-99da-d30c09823ec6",
   "metadata": {},
   "outputs": [],
   "source": [
    "apple_train_pca, apple_test_pca = PCA_transform(apple_train, apple_test)"
   ]
  },
  {
   "cell_type": "markdown",
   "id": "8d0f70c3-e623-4881-b9ce-7ab2d5b110c5",
   "metadata": {},
   "source": [
    "## Creating Deep Q Network"
   ]
  },
  {
   "cell_type": "markdown",
   "id": "e3bec134-e426-4cff-a411-8759bb5227bd",
   "metadata": {},
   "source": [
    "### Setting up environment"
   ]
  },
  {
   "cell_type": "code",
   "execution_count": 44,
   "id": "f96e0933-e0dd-42ce-8bf1-7ab47f74011d",
   "metadata": {},
   "outputs": [],
   "source": [
    "class environment:\n",
    "\n",
    "    def __init__(self, price_data, state_data):\n",
    "        self.data = price_data\n",
    "        self.scaled_state_data = state_data\n",
    "        self.balance = 100\n",
    "        self.holding = 0\n",
    "        self.index = 0\n",
    "        self.buy_price = None\n",
    "        self.sell_price = None\n",
    "        self.num_shares = 0\n",
    "        self.trend = None\n",
    "        self.balance_history = []\n",
    "        self.price = None\n",
    "        self.rewards = []\n",
    "        self.total_reward = 0\n",
    "        self.total = 100\n",
    "        self.trades = []\n",
    "        self.action_history = []\n",
    "\n",
    "    def step(self, action):\n",
    "\n",
    "        \n",
    "        trade = [] \n",
    "        if self.index < len(self.data) - 7:\n",
    "            data = self.data\n",
    "            index = self.index\n",
    "            old_net_worth = self.get_net_worth()\n",
    "                \n",
    "            \n",
    "            total = self.get_net_worth()\n",
    "            holding = (self.num_shares * data.iloc[self.index]) / total\n",
    "            trade.append(total)\n",
    "            trade.append(holding)\n",
    "            trade.append(action)\n",
    "            self.action_history.append(action)\n",
    "            sold_bought = action - holding\n",
    "            if action > holding:\n",
    "                to_buy = (action - holding) * total\n",
    "                new_balance = self.balance - to_buy\n",
    "                if new_balance >= 0:\n",
    "                    \n",
    "                    new_shares = to_buy / self.data.iloc[self.index]\n",
    "                    self.balance -= to_buy\n",
    "                    self.num_shares += new_shares\n",
    "            elif action < holding:\n",
    "                to_sell = (holding - action) * total\n",
    "                shares_to_sell = to_sell / data.iloc[self.index]\n",
    "                new_num_shares = self.num_shares - shares_to_sell\n",
    "                if new_num_shares >= 0:\n",
    "                    self.num_shares = new_num_shares\n",
    "                    self.balance += to_sell\n",
    "            \n",
    "            annual_rate = 0.054\n",
    "            # Daily risk-free rate\n",
    "            daily_rate = annual_rate / 365\n",
    "            self.balance = self.balance * (1+ daily_rate)\n",
    "            \n",
    "            \n",
    "                \n",
    "           \n",
    "                \n",
    "            \n",
    "            trade.append(self.num_shares)\n",
    "            trade.append(self.balance)\n",
    "            \n",
    "            trade.append(self.data.iloc[self.index])\n",
    "            self.index += 1\n",
    "            \n",
    "            new_net_worth = self.get_net_worth()\n",
    "            self.balance_history.append(old_net_worth)\n",
    "\n",
    "            # The reward is the change in value\n",
    "            reward = new_net_worth - old_net_worth\n",
    "            \n",
    "            self.trades.append(trade)\n",
    "            self.total_reward += reward\n",
    "            self.rewards.append(self.total_reward)\n",
    "            return (reward, False)\n",
    "        else:\n",
    "            return (0, True)\n",
    "        \n",
    "    def reset(self):\n",
    "        self.balance = 100\n",
    "        self.holding = 0\n",
    "        self.index = 0\n",
    "        self.buy_price = None\n",
    "        self.sell_price = None\n",
    "        self.num_shares = 0\n",
    "        self.trend = None\n",
    "        self.balance_history = []\n",
    "        self.trades = []\n",
    "    \n",
    "    def get_net_worth(self):\n",
    "        \n",
    "        total = self.balance + (self.num_shares * self.data.iloc[self.index])\n",
    "        return total\n",
    "        \n",
    "    def get_state(self):\n",
    "        state = self.scaled_state_data[self.index].tolist()\n",
    "        return state\n"
   ]
  },
  {
   "cell_type": "markdown",
   "id": "13531b5a-afd6-4e0e-84e5-3ef83947a437",
   "metadata": {},
   "source": [
    "### Training the model"
   ]
  },
  {
   "cell_type": "code",
   "execution_count": 48,
   "id": "9614dbdf-5454-4928-9a09-7acb75e2a75e",
   "metadata": {},
   "outputs": [],
   "source": [
    "import torch\n",
    "import torch.nn as nn\n",
    "import torch.optim as optim\n",
    "import random\n",
    "import numpy as np\n",
    "from collections import deque\n",
    "\n",
    "# Create the Stock Environment\n",
    "env = environment(apple_train_close, apple_train_pca)\n",
    "\n",
    "# Neural network model for approximating Q-values\n",
    "class DQN(nn.Module):\n",
    "    def __init__(self, input_dim, output_dim):\n",
    "        super(DQN, self).__init__()\n",
    "        self.fc1 = nn.Linear(input_dim, 128)\n",
    "        self.fc2 = nn.Linear(128, 128)\n",
    "        self.fc3 = nn.Linear(128, output_dim)\n",
    "    \n",
    "    def forward(self, x):\n",
    "        x = torch.relu(self.fc1(x))\n",
    "        x = torch.relu(self.fc2(x))\n",
    "        return self.fc3(x)\n",
    "\n",
    "# Hyperparameters\n",
    "learning_rate = 0.001\n",
    "gamma = 0.99\n",
    "epsilon = 1.0\n",
    "epsilon_min = 0.01\n",
    "epsilon_decay = 0.995\n",
    "batch_size = 64\n",
    "target_update_freq = 1000\n",
    "memory_size = 10000\n",
    "episodes = 10\n",
    "ACTIONS = [0.0,0.1,0.2,0.3,0.4,0.5,0.6,0.7,0.8,0.9,1.0]\n",
    "\n",
    "# Initialize Q-networks\n",
    "input_dim = 5\n",
    "output_dim = 11\n",
    "policy_net = DQN(input_dim, output_dim)\n",
    "target_net = DQN(input_dim, output_dim)\n",
    "target_net.load_state_dict(policy_net.state_dict())\n",
    "target_net.eval()\n",
    "\n",
    "optimizer = optim.Adam(policy_net.parameters(), lr=learning_rate)\n",
    "memory = deque(maxlen=memory_size)\n",
    "\n",
    "# Function to choose action using epsilon-greedy policy\n",
    "def select_action(state, epsilon):\n",
    "    if random.random() < epsilon:\n",
    "        return random.randint(0, len(ACTIONS) - 1)  # Explore\n",
    "    else:\n",
    "        state = torch.FloatTensor(state).unsqueeze(0)\n",
    "        q_values = policy_net(state)\n",
    "        return torch.argmax(q_values).item()\n",
    "        \n",
    "\n",
    "# Function to optimize the model using experience replay\n",
    "def optimize_model():\n",
    "    if len(memory) < batch_size:\n",
    "        return\n",
    "    \n",
    "    batch = random.sample(memory, batch_size)\n",
    "    state_batch, action_batch, reward_batch, next_state_batch = zip(*batch)\n",
    "\n",
    "    state_batch = torch.FloatTensor(state_batch)\n",
    " \n",
    "    action_batch = torch.LongTensor(action_batch).unsqueeze(1)\n",
    "    reward_batch = torch.FloatTensor(reward_batch)\n",
    "    next_state_batch = torch.FloatTensor(next_state_batch)\n",
    "    \n",
    "\n",
    "    # Compute Q-values for current states\n",
    "    q_values = policy_net(state_batch).gather(1, action_batch).squeeze()\n",
    "\n",
    "    # Compute target Q-values using the target network\n",
    "    with torch.no_grad():\n",
    "        max_next_q_values = target_net(next_state_batch).max(1)[0]\n",
    "        target_q_values = reward_batch + gamma * max_next_q_values\n",
    "\n",
    "    loss = nn.MSELoss()(q_values, target_q_values)\n",
    "\n",
    "    optimizer.zero_grad()\n",
    "    loss.backward()\n",
    "    optimizer.step()\n",
    "\n",
    "# Main training loop\n",
    "steps_done = 0\n",
    "\n",
    "for episode in range(episodes):\n",
    "    state = env.get_state()\n",
    "    done = False\n",
    "    i = 0\n",
    "    for i in range(len(apple_train_pca) - 1):\n",
    "        # Select action\n",
    "        action_index = select_action(state, epsilon)\n",
    "       \n",
    "        action = ACTIONS[action_index]\n",
    "        reward, done = env.step(action)\n",
    "        \n",
    "        next_state = env.get_state()\n",
    "        # Store transition in memory\n",
    "        memory.append((state, action_index, reward, next_state))\n",
    "        \n",
    "        # Update state\n",
    "        state = next_state\n",
    "\n",
    "        # Optimize model\n",
    "        optimize_model()\n",
    "        steps_done += 1\n",
    "\n",
    "        # Update target network periodically\n",
    "        if steps_done % target_update_freq == 0:\n",
    "            target_net.load_state_dict(policy_net.state_dict())\n",
    "\n",
    "\n",
    "    # Decay epsilon\n",
    "    epsilon = max(epsilon_min, epsilon_decay * epsilon)\n",
    "    env.reset()\n",
    "    #print(episode)"
   ]
  },
  {
   "cell_type": "markdown",
   "id": "8d1060d8-981e-4418-ba7c-f941a4feb9bb",
   "metadata": {},
   "source": [
    "## Testing"
   ]
  },
  {
   "cell_type": "code",
   "execution_count": 49,
   "id": "372d248f-a3b2-4eb2-960f-b367a5856f1d",
   "metadata": {},
   "outputs": [],
   "source": [
    "def test(env):\n",
    "    \n",
    "    # Reset the environment\n",
    "    env.reset()  \n",
    "    state = env.get_state()\n",
    "    step = 0\n",
    "    done = False\n",
    "    action_history = []\n",
    "    sum = 0\n",
    "    \n",
    "    while env.index < (len(env.scaled_state_data) - 7):\n",
    "       \n",
    "     \n",
    "        state_tensor = torch.FloatTensor(state).unsqueeze(0)\n",
    "        with torch.no_grad():\n",
    "            q_values = policy_net(state_tensor)\n",
    "            action_index = torch.argmax(q_values).item()\n",
    "            \n",
    "            action = ACTIONS[action_index]\n",
    "\n",
    "        reward, done = env.step(action)\n",
    "        sum += 1\n",
    "        \n",
    "        state = env.get_state()\n",
    "\n",
    "        if done:\n",
    "            break\n",
    "   "
   ]
  },
  {
   "cell_type": "code",
   "execution_count": 51,
   "id": "516acf09-046d-48d9-8339-052e7e55e830",
   "metadata": {},
   "outputs": [],
   "source": [
    "test_env = environment(apple_test_close, apple_test_pca)\n",
    "test(test_env)"
   ]
  },
  {
   "cell_type": "markdown",
   "id": "4f754914-f782-45ef-98c8-4e6d60db3fa9",
   "metadata": {},
   "source": [
    "### Assigning history values to dates"
   ]
  },
  {
   "cell_type": "code",
   "execution_count": 52,
   "id": "a2635085-52ca-495c-befc-a9a12d9d346d",
   "metadata": {},
   "outputs": [
    {
     "name": "stdout",
     "output_type": "stream",
     "text": [
      "               Balance\n",
      "Date                  \n",
      "2022-04-07  100.000000\n",
      "2022-04-08  100.327476\n",
      "2022-04-11   98.715255\n",
      "2022-04-12   98.353358\n",
      "2022-04-13   98.061252\n",
      "...                ...\n",
      "2024-11-07  175.561886\n",
      "2024-11-08  175.672880\n",
      "2024-11-11  177.007941\n",
      "2024-11-12  178.335579\n",
      "2024-11-13  175.372089\n",
      "\n",
      "[680 rows x 1 columns]\n"
     ]
    }
   ],
   "source": [
    "dates = pd.bdate_range(start='2022-04-07', periods=len(test_env.balance_history))\n",
    "balances = pd.DataFrame({'Date': dates, 'Balance': test_env.balance_history})\n",
    "balances.set_index('Date', inplace=True)\n",
    "print(balances)"
   ]
  },
  {
   "cell_type": "code",
   "execution_count": 53,
   "id": "aabfe3a9-cd42-44b2-a0b8-849ff38d60af",
   "metadata": {},
   "outputs": [
    {
     "name": "stdout",
     "output_type": "stream",
     "text": [
      "0.7537208863133102\n"
     ]
    }
   ],
   "source": [
    "print((test_env.balance_history[-1] - test_env.balance_history[0]) / test_env.balance_history[0])"
   ]
  },
  {
   "cell_type": "markdown",
   "id": "0c6c2236-bc0e-414c-86bd-c12d5ca42e4a",
   "metadata": {},
   "source": [
    "### Plotting model performace against underlying stock price"
   ]
  },
  {
   "cell_type": "code",
   "execution_count": 56,
   "id": "a3b0cc93-3d5c-464d-b3f7-29ca8e94cbd2",
   "metadata": {},
   "outputs": [
    {
     "data": {
      "image/png": "[encoded data removed]",
      "text/plain": [
       "<Figure size 640x480 with 1 Axes>"
      ]
     },
     "metadata": {},
     "output_type": "display_data"
    }
   ],
   "source": [
    "plt.plot(balances, label=\"Balance\")\n",
    "plt.plot(apple_test_close * 0.6, label=\"Close (scaled)\")\n",
    "plt.legend()\n",
    "plt.show()"
   ]
  },
  {
   "cell_type": "code",
   "execution_count": null,
   "id": "bff11fd0-fd13-441a-8caa-e1af445f4e7e",
   "metadata": {},
   "outputs": [],
   "source": []
  }
 ],
 "metadata": {
  "kernelspec": {
   "display_name": "Python (base)",
   "language": "python",
   "name": "base"
  },
  "language_info": {
   "codemirror_mode": {
    "name": "ipython",
    "version": 3
   },
   "file_extension": ".py",
   "mimetype": "text/x-python",
   "name": "python",
   "nbconvert_exporter": "python",
   "pygments_lexer": "ipython3",
   "version": "3.12.9"
  }
 },
 "nbformat": 4,
 "nbformat_minor": 5
}
