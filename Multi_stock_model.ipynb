{
 "cells": [
  {
   "cell_type": "markdown",
   "id": "ad136539-1632-41a1-b625-d6d806b147ee",
   "metadata": {},
   "source": [
    "# Using a Deep Q-Network on a multi-stock portfolio"
   ]
  },
  {
   "cell_type": "markdown",
   "id": "62837799-cce5-4bc9-b240-b1c27ab13934",
   "metadata": {},
   "source": [
    "## Retrieving Data"
   ]
  },
  {
   "cell_type": "code",
   "execution_count": 1,
   "id": "e881aa50-47ba-4b49-9f9f-ed3ecf8cf5b1",
   "metadata": {},
   "outputs": [],
   "source": [
    "import pandas as pd\n",
    "import matplotlib.pyplot as plt\n",
    "from alpha_vantage.timeseries import TimeSeries\n",
    "from alpha_vantage.techindicators import TechIndicators\n",
    "from alpha_vantage.fundamentaldata import FundamentalData\n",
    "import numpy as np\n",
    "import yfinance as yf"
   ]
  },
  {
   "cell_type": "markdown",
   "id": "e23e14db-84b4-4fc2-8266-442f446c4d33",
   "metadata": {},
   "source": [
    "### Function to retrieve data"
   ]
  },
  {
   "cell_type": "code",
   "execution_count": 2,
   "id": "b8afaef1-e338-4c0e-b708-69c1c94423f7",
   "metadata": {},
   "outputs": [],
   "source": [
    "def retrieve_data(tickr):\n",
    "\n",
    "    data = yf.download(tickr)\n",
    "    columns = ['Open', 'High', 'Low', 'Close', 'Volume']\n",
    "    data.columns = columns\n",
    "    data = data.sort_index(ascending=True)\n",
    "    data['Change Percentage'] = data['Close'].pct_change() * 100\n",
    "    data['Force Index'] = data['Close'].diff() * data['Volume']\n",
    "    \n",
    "    typical_price = (data['High'] + data['Low'] + data['Close']) / 3\n",
    "    raw_money_flow = typical_price * data['Volume']\n",
    "    money_flow_direction = typical_price.diff()\n",
    "    positive_flow = raw_money_flow.where(money_flow_direction > 0, 0)\n",
    "    negative_flow = raw_money_flow.where(money_flow_direction < 0, 0)\n",
    "    positive_mf = positive_flow.rolling(window=14, min_periods=0).sum()\n",
    "    negative_mf = negative_flow.rolling(window=14, min_periods=0).sum()\n",
    "    with np.errstate(divide='ignore', invalid='ignore'):\n",
    "        money_ratio = positive_mf / negative_mf\n",
    "        data['Money Flow Index'] = 100 - (100 / (1 + money_ratio))\n",
    "        data['Money Flow Index'].replace([np.inf], 100, inplace=True)\n",
    "\n",
    "    data['Price-Volume'] = (data['Close'].pct_change() * data['Volume']).cumsum()\n",
    "    data['Standard Deviation'] = data['Close'].rolling(window=20).std()\n",
    "    return data"
   ]
  },
  {
   "cell_type": "markdown",
   "id": "8e397e95-2c46-480c-af5f-9e4343ce3bf8",
   "metadata": {},
   "source": [
    "### Seperating test and train data"
   ]
  },
  {
   "cell_type": "code",
   "execution_count": 3,
   "id": "cb7351a4-0fc1-4d7f-ac3a-6315f187ea51",
   "metadata": {},
   "outputs": [],
   "source": [
    "def split_data(data, start, end, test_start, test_end):\n",
    "    train_data = data.loc[start : end]\n",
    "    test_data = data.loc[test_start : test_end]\n",
    "    return train_data, test_data"
   ]
  },
  {
   "cell_type": "markdown",
   "id": "80574de0-e18a-4489-af3e-c6e19ecf87b7",
   "metadata": {},
   "source": [
    "Creating close price dataframe"
   ]
  },
  {
   "cell_type": "code",
   "execution_count": 4,
   "id": "be918bf5-1f2c-4398-958f-23b0d37cf2c8",
   "metadata": {},
   "outputs": [],
   "source": [
    "def retrieve_close(train_data, test_data):\n",
    "    train_close = train_data['Close']\n",
    "    test_close = test_data['Close']\n",
    "    return train_close, test_close"
   ]
  },
  {
   "cell_type": "markdown",
   "id": "31bb9432-86a8-4a80-94c0-7c782a8af5ea",
   "metadata": {},
   "source": [
    "### Normalising data"
   ]
  },
  {
   "cell_type": "code",
   "execution_count": 5,
   "id": "3adebf4a-5496-46e9-8806-eb7d71c16fda",
   "metadata": {},
   "outputs": [],
   "source": [
    "from sklearn.preprocessing import MinMaxScaler\n",
    "from sklearn.decomposition import PCA\n",
    "\n",
    "def PCA_transform(train_data, test_data):\n",
    "    # Scaling train data\n",
    "    state_features = pd.DataFrame({\n",
    "        'Volume': train_data['Volume'],\n",
    "        'Change Percentage': train_data['Change Percentage'],\n",
    "        'Force Index': train_data['Force Index'],\n",
    "        'Money Flow Index': train_data['Money Flow Index'],\n",
    "        'Price-Volume': train_data['Price-Volume'],\n",
    "        'Standard Deviation': train_data['Standard Deviation']\n",
    "    })\n",
    "    scaler = MinMaxScaler() # Creating scaler object\n",
    "    scaled_features_array = scaler.fit_transform(state_features)\n",
    "    scaled_data = pd.DataFrame(scaled_features_array, columns=state_features.columns, index=state_features.index)\n",
    "\n",
    "    # Train data PCA transform\n",
    "    pca = PCA(n_components=0.95)\n",
    "    X_train_pca = pca.fit_transform(scaled_data)\n",
    "\n",
    "    # Scaling test data\n",
    "    test_features = pd.DataFrame({\n",
    "        'Volume': test_data['Volume'],\n",
    "        'Change Percentage': test_data['Change Percentage'],\n",
    "        'Force Index': test_data['Force Index'],\n",
    "        'Money Flow Index': test_data['Money Flow Index'],\n",
    "        'Price-Volume': test_data['Price-Volume'],\n",
    "        'Standard Deviation': test_data['Standard Deviation']\n",
    "    })\n",
    "    scaled_test_features_array = scaler.transform(test_features) # Using ssame scaler object as train data\n",
    "    scaled_test_data = pd.DataFrame(scaled_test_features_array, columns=test_features.columns)\n",
    "\n",
    "    # PCA transform on test data\n",
    "    X_test_pca = pca.transform(scaled_test_data)\n",
    "\n",
    "    return X_train_pca, X_test_pca\n",
    "\n"
   ]
  },
  {
   "cell_type": "markdown",
   "id": "669bdefe-84b6-433d-9e94-314d8e4d31be",
   "metadata": {},
   "source": [
    "### Creating multi-stock vector"
   ]
  },
  {
   "cell_type": "code",
   "execution_count": 6,
   "id": "f0c11e8a-d47b-43c2-ad75-d0fd79feb386",
   "metadata": {},
   "outputs": [],
   "source": [
    "asset_tickers = ['AAPL', 'TSLA', 'MSFT']"
   ]
  },
  {
   "cell_type": "code",
   "execution_count": 7,
   "id": "fb7628b5-ecc7-464c-a34d-feeef60dcff8",
   "metadata": {},
   "outputs": [
    {
     "name": "stdout",
     "output_type": "stream",
     "text": [
      "YF.download() has changed argument auto_adjust default to True\n"
     ]
    },
    {
     "name": "stderr",
     "output_type": "stream",
     "text": [
      "[*********************100%***********************]  1 of 1 completed\n",
      "/var/folders/jk/qtzrzz695z1gpn8f1qgj7n2m0000gn/T/ipykernel_44157/229767503.py:20: FutureWarning: A value is trying to be set on a copy of a DataFrame or Series through chained assignment using an inplace method.\n",
      "The behavior will change in pandas 3.0. This inplace method will never work because the intermediate object on which we are setting values always behaves as a copy.\n",
      "\n",
      "For example, when doing 'df[col].method(value, inplace=True)', try using 'df.method({col: value}, inplace=True)' or df[col] = df[col].method(value) instead, to perform the operation inplace on the original object.\n",
      "\n",
      "\n",
      "  data['Money Flow Index'].replace([np.inf], 100, inplace=True)\n",
      "[*********************100%***********************]  1 of 1 completed\n",
      "/var/folders/jk/qtzrzz695z1gpn8f1qgj7n2m0000gn/T/ipykernel_44157/229767503.py:20: FutureWarning: A value is trying to be set on a copy of a DataFrame or Series through chained assignment using an inplace method.\n",
      "The behavior will change in pandas 3.0. This inplace method will never work because the intermediate object on which we are setting values always behaves as a copy.\n",
      "\n",
      "For example, when doing 'df[col].method(value, inplace=True)', try using 'df.method({col: value}, inplace=True)' or df[col] = df[col].method(value) instead, to perform the operation inplace on the original object.\n",
      "\n",
      "\n",
      "  data['Money Flow Index'].replace([np.inf], 100, inplace=True)\n",
      "[*********************100%***********************]  1 of 1 completed\n",
      "/var/folders/jk/qtzrzz695z1gpn8f1qgj7n2m0000gn/T/ipykernel_44157/229767503.py:20: FutureWarning: A value is trying to be set on a copy of a DataFrame or Series through chained assignment using an inplace method.\n",
      "The behavior will change in pandas 3.0. This inplace method will never work because the intermediate object on which we are setting values always behaves as a copy.\n",
      "\n",
      "For example, when doing 'df[col].method(value, inplace=True)', try using 'df.method({col: value}, inplace=True)' or df[col] = df[col].method(value) instead, to perform the operation inplace on the original object.\n",
      "\n",
      "\n",
      "  data['Money Flow Index'].replace([np.inf], 100, inplace=True)\n"
     ]
    }
   ],
   "source": [
    "assets_close = []\n",
    "def get_vector(asset_tickers):\n",
    "    assets_train_close = []\n",
    "    assets_test_close = []\n",
    "\n",
    "    assets_train_pca = []\n",
    "    assets_test_pca = []\n",
    "    for i in asset_tickers:\n",
    "        data = retrieve_data(i)\n",
    "        data_train, data_test = split_data(data, '2015-01-01', '2019-12-31', '2020-01-01', '2020-12-31')\n",
    "        \n",
    "        data_train_close, data_test_close = retrieve_close(data_train, data_test)\n",
    "        assets_train_close.append(data_train_close)\n",
    "        assets_test_close.append(data_test_close)\n",
    "\n",
    "        data_train_pca, data_test_pca = PCA_transform(data_train, data_test)\n",
    "        assets_train_pca.append(data_train_pca)\n",
    "        assets_test_pca.append(data_test_pca)\n",
    "\n",
    "    return assets_train_close, assets_test_close, assets_train_pca, assets_test_pca\n",
    "train_close, test_close, train_pca, test_pca = get_vector(asset_tickers)"
   ]
  },
  {
   "cell_type": "markdown",
   "id": "8d0f70c3-e623-4881-b9ce-7ab2d5b110c5",
   "metadata": {},
   "source": [
    "## Creating Deep Q Network"
   ]
  },
  {
   "cell_type": "markdown",
   "id": "e3bec134-e426-4cff-a411-8759bb5227bd",
   "metadata": {},
   "source": [
    "### Setting up environment"
   ]
  },
  {
   "cell_type": "code",
   "execution_count": 8,
   "id": "9aade8c8-b88d-45b4-af51-35f810fbf982",
   "metadata": {},
   "outputs": [],
   "source": [
    "import itertools\n",
    "import math\n",
    "ATOMIC_HOLDINGS = [0.0, 0.1, 0.2, 0.3, 0.4, 0.5, 0.6, 0.7, 0.8, 0.9, 1.0]\n",
    "STOCKS = ['STOCK_A', 'STOCK_B', \"stock c\"]\n",
    "\n",
    "all_possible_combos = itertools.product(ATOMIC_HOLDINGS, repeat=len(STOCKS))\n",
    "\n",
    "ACTIONS = [\n",
    "    list(combo) for combo in all_possible_combos if sum(combo) <= 1.0\n",
    "]"
   ]
  },
  {
   "cell_type": "code",
   "execution_count": 9,
   "id": "f96e0933-e0dd-42ce-8bf1-7ab47f74011d",
   "metadata": {},
   "outputs": [],
   "source": [
    "class environment:\n",
    "\n",
    "    def __init__(self, price_data, PCA_data):\n",
    "        self.data = price_data\n",
    "        self.assets_pca = PCA_data\n",
    "        self.cash_balance = 100\n",
    "        self.holding = 0\n",
    "        self.index = 0\n",
    "        self.buy_price = None\n",
    "        self.sell_price = None\n",
    "        self.num_shares = [0,0,0] # Number of shares owned for each stock in portfolio\n",
    "        self.trend = None\n",
    "        self.balance_history = []\n",
    "        self.price = None\n",
    "        self.rewards = []\n",
    "        self.total_reward = 0\n",
    "        self.total = 100\n",
    "        self.trades = []\n",
    "        self.action_history = []\n",
    "        self.weight_vector = [0,0,0]\n",
    "        self.return_history = []\n",
    "\n",
    "\n",
    "    #Action = [1,0,0]\n",
    "    #Action = [-0.5,0.5,0]\n",
    "    \n",
    "        \n",
    "\n",
    "    def step(self, action):\n",
    "\n",
    "        stocks = self.data\n",
    "        stock1 = stocks[0]\n",
    "        trade = [] \n",
    "        if self.index <= len(stock1):\n",
    "            data = self.data\n",
    "            index = self.index\n",
    "            old_net_worth = self.get_net_worth()\n",
    "            total = self.get_net_worth()\n",
    "            cash_balance = self.cash_balance\n",
    "            trade.append(total)\n",
    "            trade.append(action)\n",
    "            cash_weight = 1\n",
    "            for i in action:\n",
    "                cash_weight -= i\n",
    "                \n",
    "            for i in range(len(action)):\n",
    "                stock_data = self.data[i]\n",
    "                \n",
    "\n",
    "                current_weight = (self.num_shares[i] * stock_data.iloc[self.index]) / total\n",
    "                \n",
    "                trade.append(current_weight)\n",
    "                trade.append(action)\n",
    "                self.action_history.append(action[i])\n",
    "                \n",
    "                \n",
    "                \n",
    "\n",
    "                # Checking if action should buy or sell stock\n",
    "                if action[i] > current_weight:\n",
    "\n",
    "                    # Calculating cash amount to buy\n",
    "                    to_buy = (action[i] - current_weight) * total\n",
    "\n",
    "                    \n",
    "                    \n",
    "\n",
    "                    # Calculating new number of shares\n",
    "                    new_shares = to_buy / stock_data.iloc[self.index]\n",
    "\n",
    "                    # Adding new shares to total shares\n",
    "                    self.num_shares[i] += new_shares\n",
    "\n",
    "                    \n",
    "\n",
    "                \n",
    "                elif action[i] < current_weight:\n",
    "                    to_sell = (current_weight - action[i]) * total\n",
    "                    shares_to_sell = to_sell / stock_data.iloc[self.index]\n",
    "                    new_num_shares = self.num_shares[i] - shares_to_sell\n",
    "                    self.num_shares[i] = new_num_shares\n",
    "                    \n",
    "                        \n",
    "            self.cash_balance = total * cash_weight\n",
    "            self.balance_history.append(old_net_worth)\n",
    "\n",
    "\n",
    "\n",
    "            \n",
    "            annual_rate = 0.054\n",
    "            # Daily risk-free rate\n",
    "            daily_rate = annual_rate / 365\n",
    "            self.cash_balance = self.cash_balance * (1+ daily_rate)\n",
    "            trade.append(self.num_shares)\n",
    "            trade.append(self.cash_balance)\n",
    "            \n",
    "\n",
    "            if self.index < (len(stock1)-1):\n",
    "                self.index += 1\n",
    "                volatility_window = 30 \n",
    "    \n",
    "        # Ensure we have enough historical data\n",
    "                if self.index > volatility_window:\n",
    "        # Get historical price data for all assets in the window\n",
    "        # This assumes self.data is a list of pandas Series/DataFrames with prices\n",
    "        # and they are aligned by index.\n",
    "                    historical_data_window = [\n",
    "                        asset.iloc[self.index - volatility_window : self.index] for asset in self.data\n",
    "                    ]\n",
    "        \n",
    "        # Calculate daily returns for each asset in the window\n",
    "                    asset_returns_window = [data.pct_change().dropna() for data in historical_data_window]\n",
    "        \n",
    "        # Combine into a single NumPy array (num_days x num_assets)\n",
    "                    asset_returns_matrix = np.array(asset_returns_window).T\n",
    "        \n",
    "        # The 'action' is the new portfolio weight vector\n",
    "        # Calculate the hypothetical returns of this new portfolio over the past window\n",
    "                    projected_portfolio_returns = np.dot(asset_returns_matrix, action)\n",
    "        \n",
    "        # Calculate the standard deviation (volatility) of these projected returns\n",
    "                    forward_looking_volatility = np.std(projected_portfolio_returns)\n",
    "                else:\n",
    "        # Not enough data yet to calculate volatility\n",
    "                    forward_looking_volatility = 0.0\n",
    "\n",
    "    # 3. Define the risk-adjusted reward\n",
    "                risk_aversion_gamma = 0.5 # TUNE THIS HYPERPARAMETER\n",
    "    \n",
    "                \n",
    "                \n",
    "                new_net_worth = self.get_net_worth()\n",
    "                \n",
    "    \n",
    "                # The reward is the change in value\n",
    "                portfolio_return = (new_net_worth - old_net_worth) / old_net_worth\n",
    "                self.return_history.append(portfolio_return)\n",
    "\n",
    "                reward = portfolio_return - (risk_aversion_gamma * forward_looking_volatility)\n",
    "                \n",
    "                self.trades.append(trade)\n",
    "                self.total_reward += reward\n",
    "                self.rewards.append(self.total_reward)\n",
    "                self.weight_vector = action\n",
    "        \n",
    "            else:\n",
    "                self.index += 1\n",
    "                reward = 0\n",
    "            return (reward, False)\n",
    "        else:\n",
    "            return (0, True)\n",
    "        \n",
    "    def reset(self):\n",
    "        self.cash_balance = 100\n",
    "        self.holding = 0\n",
    "        self.index = 0\n",
    "        self.buy_price = None\n",
    "        self.sell_price = None\n",
    "        self.num_shares = [0,0,0]\n",
    "        self.trend = None\n",
    "        self.balance_history = []\n",
    "        self.trades = []\n",
    "        self.weight_vector = [0,0,0]\n",
    "        self.return_history = []\n",
    "    \n",
    "    def get_net_worth(self):\n",
    "        data = self.data\n",
    "        total = 0\n",
    "        num_shares = self.num_shares\n",
    "        for i in range(len(num_shares)):\n",
    "            price_data = data[i]\n",
    "            total += num_shares[i] * price_data.iloc[self.index]\n",
    "        total += self.cash_balance\n",
    "        return total\n",
    "        \n",
    "    def get_state(self):\n",
    "        state = []\n",
    "        \n",
    "        for i in range(len(self.assets_pca)):\n",
    "            stock_pca = self.assets_pca[i]\n",
    "            \n",
    "\n",
    "            current_pca = stock_pca[self.index]\n",
    "          \n",
    "            for i in current_pca:\n",
    "                state.append(i)\n",
    "        return state\n"
   ]
  },
  {
   "cell_type": "markdown",
   "id": "13531b5a-afd6-4e0e-84e5-3ef83947a437",
   "metadata": {},
   "source": [
    "### Training the model"
   ]
  },
  {
   "cell_type": "code",
   "execution_count": 10,
   "id": "9614dbdf-5454-4928-9a09-7acb75e2a75e",
   "metadata": {},
   "outputs": [],
   "source": [
    "import torch\n",
    "import torch.nn as nn\n",
    "import torch.optim as optim\n",
    "import random\n",
    "import numpy as np\n",
    "from collections import deque\n",
    "import itertools\n",
    "import math\n",
    "\n",
    "# Create the Stock Environment\n",
    "def train_model(env):\n",
    "    \n",
    "    \n",
    "    # Neural network model for approximating Q-values\n",
    "    class DQN(nn.Module):\n",
    "        def __init__(self, input_dim, output_dim):\n",
    "            super(DQN, self).__init__()\n",
    "            self.fc1 = nn.Linear(input_dim, 128)\n",
    "            self.fc2 = nn.Linear(128, 128)\n",
    "            self.fc3 = nn.Linear(128, output_dim)\n",
    "        \n",
    "        def forward(self, x):\n",
    "            x = torch.relu(self.fc1(x))\n",
    "            x = torch.relu(self.fc2(x))\n",
    "            return self.fc3(x)\n",
    "    \n",
    "    # Hyperparameters\n",
    "    learning_rate = 0.001\n",
    "    gamma = 0.99\n",
    "    epsilon = 1.0\n",
    "    epsilon_min = 0.01\n",
    "    epsilon_decay = 0.995\n",
    "    batch_size = 64\n",
    "    target_update_freq = 1000\n",
    "    memory_size = 10000\n",
    "    episodes = 50\n",
    "    \n",
    "    ATOMIC_HOLDINGS = [0.0, 0.1, 0.2, 0.3, 0.4, 0.5, 0.6, 0.7, 0.8, 0.9, 1.0]\n",
    "    STOCKS = ['STOCK_A', 'STOCK_B', 'Stock c']\n",
    "    \n",
    "    all_possible_combos = itertools.product(ATOMIC_HOLDINGS, repeat=len(STOCKS))\n",
    "    \n",
    "    ACTIONS = [\n",
    "        list(combo) for combo in all_possible_combos if sum(combo) <= 1.0\n",
    "    ]\n",
    "    \n",
    "    # Initialize Q-networks\n",
    "    input_dim = 13\n",
    "    output_dim = 286\n",
    "    policy_net = DQN(input_dim, output_dim)\n",
    "    target_net = DQN(input_dim, output_dim)\n",
    "    target_net.load_state_dict(policy_net.state_dict())\n",
    "    target_net.eval()\n",
    "    \n",
    "    optimizer = optim.Adam(policy_net.parameters(), lr=learning_rate)\n",
    "    memory = deque(maxlen=memory_size)\n",
    "    \n",
    "    # Function to choose action using epsilon-greedy policy\n",
    "    def select_action(state, epsilon):\n",
    "        if random.random() < epsilon:\n",
    "            return random.randint(0, len(ACTIONS) - 1)  # Explore\n",
    "        else:\n",
    "            state = torch.FloatTensor(state).unsqueeze(0)\n",
    "            q_values = policy_net(state)\n",
    "            return torch.argmax(q_values).item()\n",
    "            \n",
    "    \n",
    "    # Function to optimize the model using experience replay\n",
    "    def optimize_model():\n",
    "        if len(memory) < batch_size:\n",
    "            return\n",
    "        \n",
    "        batch = random.sample(memory, batch_size)\n",
    "    \n",
    "        state_batch, action_batch, reward_batch, next_state_batch = zip(*batch)\n",
    "        state_batch = torch.FloatTensor(np.array(state_batch, dtype=np.float32))\n",
    "    \n",
    "        state_batch = torch.FloatTensor(state_batch)\n",
    "        \n",
    "     \n",
    "        action_batch = torch.LongTensor(action_batch).unsqueeze(1)\n",
    "        reward_batch = torch.FloatTensor(reward_batch)\n",
    "        next_state_batch = torch.FloatTensor(next_state_batch)\n",
    "        \n",
    "    \n",
    "        # Compute Q-values for current states\n",
    "    \n",
    "        # Now the gather operation will work\n",
    "        q_values = policy_net(state_batch).gather(1, action_batch).squeeze()\n",
    "    \n",
    "        # Compute target Q-values using the target network\n",
    "        with torch.no_grad():\n",
    "            max_next_q_values = target_net(next_state_batch).max(1)[0]\n",
    "            target_q_values = reward_batch + gamma * max_next_q_values\n",
    "    \n",
    "        loss = nn.MSELoss()(q_values, target_q_values)\n",
    "    \n",
    "        optimizer.zero_grad()\n",
    "        loss.backward()\n",
    "        optimizer.step()\n",
    "    \n",
    "    # Main training loop\n",
    "    steps_done = 0\n",
    "    \n",
    "    for episode in range(episodes):\n",
    "        state = env.get_state()\n",
    "        done = False\n",
    "        i = 0\n",
    "        for i in range(len(train_close[i])-1):\n",
    "            # Select action\n",
    "            action_index = select_action(state, epsilon)\n",
    "           \n",
    "            action = ACTIONS[action_index]\n",
    "            reward, done = env.step(action)\n",
    "            \n",
    "            next_state = env.get_state()\n",
    "            # Store transition in memory\n",
    "            memory.append((state, action_index, reward, next_state))\n",
    "            \n",
    "            # Update state\n",
    "            state = next_state\n",
    "    \n",
    "            # Optimize model\n",
    "            optimize_model()\n",
    "            steps_done += 1\n",
    "    \n",
    "            # Update target network periodically\n",
    "            if steps_done % target_update_freq == 0:\n",
    "                target_net.load_state_dict(policy_net.state_dict())\n",
    "    \n",
    "    \n",
    "        # Decay epsilon\n",
    "        epsilon = max(epsilon_min, epsilon_decay * epsilon)\n",
    "        env.reset()\n",
    "    return policy_net"
   ]
  },
  {
   "cell_type": "markdown",
   "id": "8d1060d8-981e-4418-ba7c-f941a4feb9bb",
   "metadata": {},
   "source": [
    "## Testing"
   ]
  },
  {
   "cell_type": "code",
   "execution_count": 11,
   "id": "372d248f-a3b2-4eb2-960f-b367a5856f1d",
   "metadata": {},
   "outputs": [],
   "source": [
    "def test(env, policy_net):\n",
    "    \n",
    "    # Reset the environment\n",
    "    env.reset()  \n",
    "\n",
    "    step = 0\n",
    "    done = False\n",
    "    action_history = []\n",
    "    sum = 0\n",
    "    stock1 = test_close[0]\n",
    "    \n",
    "    while env.index < (len(stock1)):\n",
    "   \n",
    "        state = env.get_state()\n",
    "       \n",
    "     \n",
    "        state_tensor = torch.FloatTensor(state).unsqueeze(0)\n",
    "        with torch.no_grad():\n",
    "            q_values = policy_net(state_tensor)\n",
    "            action_index = torch.argmax(q_values).item()\n",
    "            \n",
    "            action = ACTIONS[action_index]\n",
    "       \n",
    "\n",
    "        env.step(action)\n",
    "        sum += 1\n",
    "        \n",
    "     \n",
    "\n",
    "        if done:\n",
    "            break\n",
    "   "
   ]
  },
  {
   "cell_type": "code",
   "execution_count": 12,
   "id": "d4cf39d1-3f5f-46fa-966e-b3866aa0831f",
   "metadata": {},
   "outputs": [
    {
     "name": "stdout",
     "output_type": "stream",
     "text": [
      "0\n"
     ]
    }
   ],
   "source": [
    "returns = []\n",
    "for i in range(1):\n",
    "    env = environment(train_close, train_pca)\n",
    "    policy_net = train_model(env)\n",
    "    test_env = environment(test_close, test_pca)\n",
    "    test(test_env, policy_net)\n",
    "    returns.append((test_env.balance_history[-1] - test_env.balance_history[0]) / test_env.balance_history[0])\n",
    "    print(i)    "
   ]
  },
  {
   "cell_type": "code",
   "execution_count": 13,
   "id": "7de5926e-5514-430f-a678-e1ad068a7c59",
   "metadata": {},
   "outputs": [
    {
     "name": "stdout",
     "output_type": "stream",
     "text": [
      "1.8119919314616493\n",
      "[1.8119919314616493]\n"
     ]
    }
   ],
   "source": [
    "total = 0\n",
    "for i in returns:\n",
    "    total += i\n",
    "avg = total/len(returns)\n",
    "print(avg)\n",
    "print(returns)"
   ]
  },
  {
   "cell_type": "code",
   "execution_count": 15,
   "id": "7e7ac7a5-38f2-4996-bb74-902911f592ec",
   "metadata": {},
   "outputs": [
    {
     "name": "stdout",
     "output_type": "stream",
     "text": [
      "0.4753320527219235\n",
      "3.8120550067800543\n"
     ]
    }
   ],
   "source": [
    "daily_std = np.std(test_env.return_history)\n",
    "annual_std = daily_std * np.sqrt(252)\n",
    "sharpe_ratio = avg / annual_std\n",
    "\n",
    "print(annual_std)\n",
    "print(sharpe_ratio)"
   ]
  },
  {
   "cell_type": "code",
   "execution_count": 16,
   "id": "2cf063c4-39ad-49fc-b843-6794f92c13f6",
   "metadata": {},
   "outputs": [
    {
     "name": "stdout",
     "output_type": "stream",
     "text": [
      "2.8273048211404066\n"
     ]
    },
    {
     "name": "stderr",
     "output_type": "stream",
     "text": [
      "/var/folders/jk/qtzrzz695z1gpn8f1qgj7n2m0000gn/T/ipykernel_44157/1061797784.py:6: FutureWarning: Series.__getitem__ treating keys as positions is deprecated. In a future version, integer keys will always be treated as labels (consistent with DataFrame behavior). To access a value by position, use `ser.iloc[pos]`\n",
      "  r = (i[-1] - i[0]) / i[0]\n"
     ]
    }
   ],
   "source": [
    "aapl = test_close[0]\n",
    "tsla = test_close[1]\n",
    "msft = test_close[2]\n",
    "totalr = 0\n",
    "for i in test_close:\n",
    "    r = (i[-1] - i[0]) / i[0]\n",
    "    r = r * 0.33333\n",
    "    totalr += r\n",
    "print(totalr)"
   ]
  },
  {
   "cell_type": "markdown",
   "id": "0c6c2236-bc0e-414c-86bd-c12d5ca42e4a",
   "metadata": {},
   "source": [
    "### Plotting model performace against underlying stock price"
   ]
  },
  {
   "cell_type": "code",
   "execution_count": 17,
   "id": "972cf9bc-c2d9-4ca3-a4d4-2baf8b73a827",
   "metadata": {},
   "outputs": [
    {
     "name": "stdout",
     "output_type": "stream",
     "text": [
      "                 Close  Model_Balance\n",
      "Date                                 \n",
      "2020-01-02   71.627069     100.000000\n",
      "2020-01-03   71.847133     100.881434\n",
      "2020-01-06   71.034709     100.233664\n",
      "2020-01-07   72.497529     102.996423\n",
      "2020-01-08   71.849540     103.063097\n",
      "...                ...            ...\n",
      "2020-12-24  128.102884     271.415661\n",
      "2020-12-28  130.707502     278.966183\n",
      "2020-12-29  134.668006     278.118242\n",
      "2020-12-30  132.258541     279.173204\n",
      "2020-12-31  130.795293     281.199193\n",
      "\n",
      "[253 rows x 2 columns]\n"
     ]
    }
   ],
   "source": [
    "df1 = pd.DataFrame(test_close[0])\n",
    "df1.columns = ['Close']\n",
    "df1['Model_Balance'] = test_env.balance_history\n",
    "print(df1)"
   ]
  },
  {
   "cell_type": "code",
   "execution_count": 18,
   "id": "f24319fd-f256-4f5c-94f8-95b476efdbdf",
   "metadata": {},
   "outputs": [
    {
     "data": {
      "image/png": "[encoded data removed]",
      "text/plain": [
       "<Figure size 640x480 with 1 Axes>"
      ]
     },
     "metadata": {},
     "output_type": "display_data"
    }
   ],
   "source": [
    "appl_scaled = (test_close[0] / test_close[0].iloc[0]) * 100\n",
    "tsla_scaled = (test_close[1] / test_close[1].iloc[0]) * 100\n",
    "msft_scaled = (test_close[2] / test_close[2].iloc[0]) * 100\n",
    "\n",
    "# Plot the data\n",
    "plt.plot(df1['Model_Balance'], label=\"Model Balance\")\n",
    "plt.plot(appl_scaled, label=\"APPL (Normalized)\")\n",
    "plt.plot(tsla_scaled, label=\"TSLA (Normalized)\")\n",
    "plt.plot(msft_scaled, label=\"MSFT (Normalized)\")\n",
    "\n",
    "plt.title(\"Model Performance vs. Normalized Stocks\")\n",
    "plt.xlabel(\"Time\")\n",
    "plt.ylabel(\"Value (Indexed to 100)\")\n",
    "plt.legend()\n",
    "plt.grid(True)\n",
    "plt.show()"
   ]
  },
  {
   "cell_type": "code",
   "execution_count": 19,
   "id": "afb6dfa0-52c7-47d0-8cfd-86b77b505e20",
   "metadata": {},
   "outputs": [],
   "source": [
    "equal_weight_df = pd.DataFrame({\n",
    "    'Stock0': test_close[0],\n",
    "    'Stock1': test_close[1],\n",
    "    'Stock2': test_close[2]\n",
    "})\n",
    "\n",
    "# 2. Calculate the daily percentage returns for each stock\n",
    "daily_asset_returns = equal_weight_df.pct_change().dropna()\n",
    "\n",
    "# 3. Define the equal weights for the portfolio\n",
    "# In this case, 1/3 for each of the three stocks.\n",
    "weights = np.array([1/3, 1/3, 1/3])\n",
    "\n",
    "# 4. Calculate the daily returns of the equally weighted portfolio\n",
    "# This is the dot product of the asset returns and their weights.\n",
    "equal_weight_returns = np.dot(daily_asset_returns, weights)"
   ]
  },
  {
   "cell_type": "code",
   "execution_count": 20,
   "id": "73dc83c0-9482-4ef8-94ee-1b9691def603",
   "metadata": {},
   "outputs": [
    {
     "name": "stdout",
     "output_type": "stream",
     "text": [
      "5.402886813704781\n"
     ]
    }
   ],
   "source": [
    "baseline_day_std = np.std(equal_weight_returns)\n",
    "baseline_year_std = baseline_day_std * np.sqrt(252)\n",
    "baseline_sharpe = totalr / baseline_year_std\n",
    "print(baseline_sharpe)"
   ]
  },
  {
   "cell_type": "code",
   "execution_count": null,
   "id": "57f64fba-84ba-4911-9dbf-c09c04fa95a4",
   "metadata": {},
   "outputs": [],
   "source": []
  }
 ],
 "metadata": {
  "kernelspec": {
   "display_name": "Python (base)",
   "language": "python",
   "name": "base"
  },
  "language_info": {
   "codemirror_mode": {
    "name": "ipython",
    "version": 3
   },
   "file_extension": ".py",
   "mimetype": "text/x-python",
   "name": "python",
   "nbconvert_exporter": "python",
   "pygments_lexer": "ipython3",
   "version": "3.12.9"
  }
 },
 "nbformat": 4,
 "nbformat_minor": 5
}
