{
 "cells": [
  {
   "cell_type": "markdown",
   "id": "ad136539-1632-41a1-b625-d6d806b147ee",
   "metadata": {},
   "source": [
    "# Using a Deep Q-Network"
   ]
  },
  {
   "cell_type": "markdown",
   "id": "62837799-cce5-4bc9-b240-b1c27ab13934",
   "metadata": {},
   "source": [
    "## Retrieving Data"
   ]
  },
  {
   "cell_type": "code",
   "execution_count": 18,
   "id": "e881aa50-47ba-4b49-9f9f-ed3ecf8cf5b1",
   "metadata": {},
   "outputs": [],
   "source": [
    "import pandas as pd\n",
    "import matplotlib.pyplot as plt\n",
    "from alpha_vantage.timeseries import TimeSeries\n",
    "from alpha_vantage.techindicators import TechIndicators\n",
    "from alpha_vantage.fundamentaldata import FundamentalData\n",
    "import numpy as np"
   ]
  },
  {
   "cell_type": "code",
   "execution_count": 19,
   "id": "99689fa5-4304-4a36-b4da-96c7d6f0a7c3",
   "metadata": {},
   "outputs": [],
   "source": [
    "key = 'L49TNJ1SKAPIG4BA'"
   ]
  },
  {
   "cell_type": "markdown",
   "id": "e23e14db-84b4-4fc2-8266-442f446c4d33",
   "metadata": {},
   "source": [
    "### Loading price history data"
   ]
  },
  {
   "cell_type": "code",
   "execution_count": 20,
   "id": "f1d66de2-b148-43cf-bf2e-0bbe12fc6056",
   "metadata": {},
   "outputs": [
    {
     "name": "stdout",
     "output_type": "stream",
     "text": [
      "               Open    High       Low   Close      Volume\n",
      "date                                                     \n",
      "1999-11-01   80.000   80.69   77.3700   77.62   2487300.0\n",
      "1999-11-02   78.000   81.69   77.3100   80.25   3564600.0\n",
      "1999-11-03   81.620   83.25   81.0000   81.50   2932700.0\n",
      "1999-11-04   82.060   85.37   80.6200   83.62   3384700.0\n",
      "1999-11-05   84.620   88.37   84.0000   88.31   3721500.0\n",
      "...             ...     ...       ...     ...         ...\n",
      "2025-07-02  208.910  213.34  208.1400  212.44  67941811.0\n",
      "2025-07-03  212.145  214.65  211.8101  213.55  34955836.0\n",
      "2025-07-07  212.680  216.23  208.8000  209.95  50228984.0\n",
      "2025-07-08  210.100  211.43  208.4500  210.01  42848928.0\n",
      "2025-07-09  209.530  211.33  207.2200  211.14  48749367.0\n",
      "\n",
      "[6460 rows x 5 columns]\n"
     ]
    }
   ],
   "source": [
    "ts = TimeSeries(key, output_format = 'pandas')\n",
    "data, meta = ts.get_daily('AAPL', outputsize = 'full')\n",
    "columns = ['Open', 'High', 'Low', 'Close', 'Volume']\n",
    "data.columns = columns\n",
    "data = data.sort_index(ascending=True)\n",
    "print(data)\n"
   ]
  },
  {
   "cell_type": "markdown",
   "id": "ea643b93-0f4d-4d7e-beb3-2468516538c0",
   "metadata": {},
   "source": [
    "### Loading technical indicators"
   ]
  },
  {
   "cell_type": "code",
   "execution_count": 21,
   "id": "e560f563-987b-42fc-8096-da4431d8dadd",
   "metadata": {},
   "outputs": [
    {
     "name": "stdout",
     "output_type": "stream",
     "text": [
      "               Open    High       Low   Close      Volume  Change Percentage  \\\n",
      "date                                                                           \n",
      "1999-11-01   80.000   80.69   77.3700   77.62   2487300.0                NaN   \n",
      "1999-11-02   78.000   81.69   77.3100   80.25   3564600.0           3.388302   \n",
      "1999-11-03   81.620   83.25   81.0000   81.50   2932700.0           1.557632   \n",
      "1999-11-04   82.060   85.37   80.6200   83.62   3384700.0           2.601227   \n",
      "1999-11-05   84.620   88.37   84.0000   88.31   3721500.0           5.608706   \n",
      "...             ...     ...       ...     ...         ...                ...   \n",
      "2025-07-02  208.910  213.34  208.1400  212.44  67941811.0           2.223078   \n",
      "2025-07-03  212.145  214.65  211.8101  213.55  34955836.0           0.522500   \n",
      "2025-07-07  212.680  216.23  208.8000  209.95  50228984.0          -1.685788   \n",
      "2025-07-08  210.100  211.43  208.4500  210.01  42848928.0           0.028578   \n",
      "2025-07-09  209.530  211.33  207.2200  211.14  48749367.0           0.538070   \n",
      "\n",
      "             Force Index  Money Flow Index  Price-Volume  Standard Deviation  \n",
      "date                                                                          \n",
      "1999-11-01           NaN               NaN           NaN                 NaN  \n",
      "1999-11-02  9.374898e+06        100.000000  1.207794e+05                 NaN  \n",
      "1999-11-03  3.665875e+06        100.000000  1.664601e+05                 NaN  \n",
      "1999-11-04  7.175564e+06        100.000000  2.545038e+05                 NaN  \n",
      "1999-11-05  1.745383e+07        100.000000  4.632318e+05                 NaN  \n",
      "...                  ...               ...           ...                 ...  \n",
      "2025-07-02  3.138912e+08         72.800753 -1.663562e+08            3.913822  \n",
      "2025-07-03  3.880098e+07         77.832605 -1.661735e+08            4.759645  \n",
      "2025-07-07 -1.808243e+08         77.613463 -1.670203e+08            5.068974  \n",
      "2025-07-08  2.570936e+06         72.307214 -1.670080e+08            5.339281  \n",
      "2025-07-09  5.508678e+07         71.201859 -1.667457e+08            5.647889  \n",
      "\n",
      "[6460 rows x 10 columns]\n"
     ]
    },
    {
     "name": "stderr",
     "output_type": "stream",
     "text": [
      "/var/folders/jk/qtzrzz695z1gpn8f1qgj7n2m0000gn/T/ipykernel_6269/118303788.py:14: FutureWarning: A value is trying to be set on a copy of a DataFrame or Series through chained assignment using an inplace method.\n",
      "The behavior will change in pandas 3.0. This inplace method will never work because the intermediate object on which we are setting values always behaves as a copy.\n",
      "\n",
      "For example, when doing 'df[col].method(value, inplace=True)', try using 'df.method({col: value}, inplace=True)' or df[col] = df[col].method(value) instead, to perform the operation inplace on the original object.\n",
      "\n",
      "\n",
      "  data['Money Flow Index'].replace([np.inf], 100, inplace=True)\n"
     ]
    }
   ],
   "source": [
    "data['Change Percentage'] = data['Close'].pct_change() * 100\n",
    "data['Force Index'] = data['Close'].diff() * data['Volume']\n",
    "    \n",
    "typical_price = (data['High'] + data['Low'] + data['Close']) / 3\n",
    "raw_money_flow = typical_price * data['Volume']\n",
    "money_flow_direction = typical_price.diff()\n",
    "positive_flow = raw_money_flow.where(money_flow_direction > 0, 0)\n",
    "negative_flow = raw_money_flow.where(money_flow_direction < 0, 0)\n",
    "positive_mf = positive_flow.rolling(window=14, min_periods=0).sum()\n",
    "negative_mf = negative_flow.rolling(window=14, min_periods=0).sum()\n",
    "with np.errstate(divide='ignore', invalid='ignore'):\n",
    "    money_ratio = positive_mf / negative_mf\n",
    "    data['Money Flow Index'] = 100 - (100 / (1 + money_ratio))\n",
    "    data['Money Flow Index'].replace([np.inf], 100, inplace=True)\n",
    "\n",
    "data['Price-Volume'] = (data['Close'].pct_change() * data['Volume']).cumsum()\n",
    "    \n",
    "   \n",
    "data['Standard Deviation'] = data['Close'].rolling(window=20).std()\n",
    "print(data)"
   ]
  },
  {
   "cell_type": "code",
   "execution_count": 22,
   "id": "fc984eaf-571b-48cd-bce4-d560302376d7",
   "metadata": {},
   "outputs": [
    {
     "name": "stdout",
     "output_type": "stream",
     "text": [
      "               Open    High       Low   Close      Volume  Change Percentage  \\\n",
      "date                                                                           \n",
      "1999-11-01   80.000   80.69   77.3700   77.62   2487300.0                NaN   \n",
      "1999-11-02   78.000   81.69   77.3100   80.25   3564600.0           3.388302   \n",
      "1999-11-03   81.620   83.25   81.0000   81.50   2932700.0           1.557632   \n",
      "1999-11-04   82.060   85.37   80.6200   83.62   3384700.0           2.601227   \n",
      "1999-11-05   84.620   88.37   84.0000   88.31   3721500.0           5.608706   \n",
      "...             ...     ...       ...     ...         ...                ...   \n",
      "2025-07-02  208.910  213.34  208.1400  212.44  67941811.0           2.223078   \n",
      "2025-07-03  212.145  214.65  211.8101  213.55  34955836.0           0.522500   \n",
      "2025-07-07  212.680  216.23  208.8000  209.95  50228984.0          -1.685788   \n",
      "2025-07-08  210.100  211.43  208.4500  210.01  42848928.0           0.028578   \n",
      "2025-07-09  209.530  211.33  207.2200  211.14  48749367.0           0.538070   \n",
      "\n",
      "             Force Index  Money Flow Index  Price-Volume  Standard Deviation  \n",
      "date                                                                          \n",
      "1999-11-01           NaN               NaN           NaN                 NaN  \n",
      "1999-11-02  9.374898e+06        100.000000  1.207794e+05                 NaN  \n",
      "1999-11-03  3.665875e+06        100.000000  1.664601e+05                 NaN  \n",
      "1999-11-04  7.175564e+06        100.000000  2.545038e+05                 NaN  \n",
      "1999-11-05  1.745383e+07        100.000000  4.632318e+05                 NaN  \n",
      "...                  ...               ...           ...                 ...  \n",
      "2025-07-02  3.138912e+08         72.800753 -1.663562e+08            3.913822  \n",
      "2025-07-03  3.880098e+07         77.832605 -1.661735e+08            4.759645  \n",
      "2025-07-07 -1.808243e+08         77.613463 -1.670203e+08            5.068974  \n",
      "2025-07-08  2.570936e+06         72.307214 -1.670080e+08            5.339281  \n",
      "2025-07-09  5.508678e+07         71.201859 -1.667457e+08            5.647889  \n",
      "\n",
      "[6460 rows x 10 columns]\n"
     ]
    }
   ],
   "source": [
    "print(data)"
   ]
  },
  {
   "cell_type": "code",
   "execution_count": 23,
   "id": "f939028f-18d7-49d3-8ba3-b149b42282e0",
   "metadata": {},
   "outputs": [],
   "source": [
    "ti = TechIndicators(key, output_format = 'pandas')\n",
    "roc, meta = ti.get_roc('AAPL')\n",
    "sma, meta = ti.get_sma('AAPL')"
   ]
  },
  {
   "cell_type": "markdown",
   "id": "8e397e95-2c46-480c-af5f-9e4343ce3bf8",
   "metadata": {},
   "source": [
    "### Seperating test and train data"
   ]
  },
  {
   "cell_type": "code",
   "execution_count": 24,
   "id": "9ef9dae9-d8a6-42cf-8d03-fc019b7fd863",
   "metadata": {},
   "outputs": [
    {
     "name": "stdout",
     "output_type": "stream",
     "text": [
      "              Open    High      Low   Close       Volume  Change Percentage  \\\n",
      "date                                                                          \n",
      "2012-02-01  458.41  458.99  455.550  456.19    9644500.0          -0.063530   \n",
      "2012-02-02  455.90  457.17  453.980  455.12    6671300.0          -0.234551   \n",
      "2012-02-03  457.30  460.00  455.560  459.68   10235700.0           1.001934   \n",
      "2012-02-06  458.38  464.98  458.201  463.97    8907600.0           0.933258   \n",
      "2012-02-07  465.25  469.75  464.581  468.83   11293700.0           1.047482   \n",
      "...            ...     ...      ...     ...          ...                ...   \n",
      "2022-03-31  177.84  178.03  174.400  174.61  103049285.0          -1.777578   \n",
      "2022-04-01  174.03  174.88  171.940  174.31   78751328.0          -0.171811   \n",
      "2022-04-04  174.57  178.49  174.440  178.44   76545983.0           2.369342   \n",
      "2022-04-05  177.50  178.30  174.415  175.06   70902999.0          -1.894194   \n",
      "2022-04-06  172.36  173.63  170.130  171.83   89058782.0          -1.845082   \n",
      "\n",
      "             Force Index  Money Flow Index  Price-Volume  Standard Deviation  \n",
      "date                                                                          \n",
      "2012-02-01 -2.796905e+06         67.137084  1.962925e+07           14.035041  \n",
      "2012-02-02 -7.138291e+06         67.270431  1.961360e+07           14.407114  \n",
      "2012-02-03  4.667479e+07         71.981201  1.971616e+07           15.134868  \n",
      "2012-02-06  3.821360e+07         72.131192  1.979929e+07           16.135847  \n",
      "2012-02-07  5.488738e+07         72.485542  1.991759e+07           17.182178  \n",
      "...                  ...               ...           ...                 ...  \n",
      "2022-03-31 -3.256357e+08         76.956716 -1.847702e+08            8.517917  \n",
      "2022-04-01 -2.362540e+07         77.943124 -1.849056e+08            8.732319  \n",
      "2022-04-04  3.161349e+08         77.869444 -1.830919e+08            9.019126  \n",
      "2022-04-05 -2.396521e+08         71.671780 -1.844350e+08            8.914462  \n",
      "2022-04-06 -2.876599e+08         65.059987 -1.860782e+08            8.886395  \n",
      "\n",
      "[2563 rows x 10 columns]\n"
     ]
    }
   ],
   "source": [
    "train_data = data.loc['2012-02-01' : '2022-04-06']\n",
    "test_data = data.loc['2022-04-07' : '2025-01-01']\n",
    "print(train_data)"
   ]
  },
  {
   "cell_type": "code",
   "execution_count": 25,
   "id": "042d7355-4635-48b2-84b5-2284471ac344",
   "metadata": {},
   "outputs": [],
   "source": [
    "roc = roc.sort_index()\n",
    "train_roc = roc.loc['2012-02-01' : '2022-04-06']\n",
    "test_roc = roc.loc['2022-04-07' : '2025-01-01']"
   ]
  },
  {
   "cell_type": "markdown",
   "id": "80574de0-e18a-4489-af3e-c6e19ecf87b7",
   "metadata": {},
   "source": [
    "Creating close price dataframe"
   ]
  },
  {
   "cell_type": "code",
   "execution_count": 56,
   "id": "be918bf5-1f2c-4398-958f-23b0d37cf2c8",
   "metadata": {},
   "outputs": [
    {
     "name": "stdout",
     "output_type": "stream",
     "text": [
      "date\n",
      "2012-02-01    456.19\n",
      "2012-02-02    455.12\n",
      "2012-02-03    459.68\n",
      "2012-02-06    463.97\n",
      "2012-02-07    468.83\n",
      "               ...  \n",
      "2022-03-31    174.61\n",
      "2022-04-01    174.31\n",
      "2022-04-04    178.44\n",
      "2022-04-05    175.06\n",
      "2022-04-06    171.83\n",
      "Name: Close, Length: 2563, dtype: float64\n"
     ]
    }
   ],
   "source": [
    "train_close = train_data['Close']\n",
    "test_close = test_data['Close']\n",
    "print(train_close)"
   ]
  },
  {
   "cell_type": "markdown",
   "id": "31bb9432-86a8-4a80-94c0-7c782a8af5ea",
   "metadata": {},
   "source": [
    "### Normalising data"
   ]
  },
  {
   "cell_type": "code",
   "execution_count": 27,
   "id": "3adebf4a-5496-46e9-8806-eb7d71c16fda",
   "metadata": {},
   "outputs": [
    {
     "name": "stdout",
     "output_type": "stream",
     "text": [
      "                 ROC    Volume  Change Percentage  Force Index  \\\n",
      "date                                                             \n",
      "2012-02-01  0.615023  0.012051           0.876426     0.956398   \n",
      "2012-02-02  0.601129  0.002956           0.874671     0.956348   \n",
      "2012-02-03  0.599206  0.013860           0.887357     0.956970   \n",
      "2012-02-06  0.597216  0.009797           0.886653     0.956872   \n",
      "2012-02-07  0.618859  0.017096           0.887825     0.957065   \n",
      "\n",
      "            Money Flow Index  Price-Volume  Standard Deviation  \n",
      "date                                                            \n",
      "2012-02-01          0.691368      0.969408            0.047016  \n",
      "2012-02-02          0.692855      0.969348            0.048360  \n",
      "2012-02-03          0.745374      0.969740            0.050991  \n",
      "2012-02-06          0.747046      0.970058            0.054609  \n",
      "2012-02-07          0.750997      0.970510            0.058391  \n"
     ]
    }
   ],
   "source": [
    "from sklearn.preprocessing import MinMaxScaler\n",
    "state_features = pd.DataFrame({\n",
    "    'ROC': train_roc['ROC'],\n",
    "    'Volume': train_data['Volume'],\n",
    "    'Change Percentage': train_data['Change Percentage'],\n",
    "    'Force Index': train_data['Force Index'],\n",
    "    'Money Flow Index': train_data['Money Flow Index'],\n",
    "    'Price-Volume': train_data['Price-Volume'],\n",
    "    'Standard Deviation': train_data['Standard Deviation']\n",
    "})\n",
    "scaler = MinMaxScaler()\n",
    "scaled_features_array = scaler.fit_transform(state_features)\n",
    "\n",
    "scaled_data = pd.DataFrame(scaled_features_array, columns=state_features.columns, index=state_features.index)\n",
    "print(scaled_data.head())"
   ]
  },
  {
   "cell_type": "code",
   "execution_count": 45,
   "id": "2228c213-7016-44a5-99da-d30c09823ec6",
   "metadata": {},
   "outputs": [
    {
     "name": "stdout",
     "output_type": "stream",
     "text": [
      "[[ 0.33176149  0.15475271  0.02465765  0.04319038]\n",
      " [ 0.33386716  0.14867113  0.02014181  0.03240516]\n",
      " [ 0.33771627  0.1916602   0.01968086  0.00166646]\n",
      " ...\n",
      " [-0.44407229  0.3781103  -0.01010081 -0.01163896]\n",
      " [-0.45361284  0.31345248 -0.0102224   0.01455844]\n",
      " [-0.49104078  0.20325013 -0.0077262  -0.03263337]]\n"
     ]
    }
   ],
   "source": [
    "from sklearn.decomposition import PCA\n",
    "pca = PCA(n_components=0.95)\n",
    "X_train_pca = pca.fit_transform(scaled_data)\n",
    "print(X_train_pca)"
   ]
  },
  {
   "cell_type": "code",
   "execution_count": 29,
   "id": "ba34cc10-134c-4333-999d-71f4838d9feb",
   "metadata": {},
   "outputs": [],
   "source": [
    "test_features = pd.DataFrame({\n",
    "    'ROC': test_roc['ROC'],\n",
    "    'Volume': test_data['Volume'],\n",
    "    'Change Percentage': test_data['Change Percentage'],\n",
    "    'Force Index': test_data['Force Index'],\n",
    "    'Money Flow Index': test_data['Money Flow Index'],\n",
    "    'Price-Volume': test_data['Price-Volume'],\n",
    "    'Standard Deviation': test_data['Standard Deviation']\n",
    "})\n",
    "\n",
    "\n",
    "scaled_test_features_array = scaler.transform(test_features)\n",
    "scaled_test_data = pd.DataFrame(scaled_test_features_array, columns=test_features.columns)"
   ]
  },
  {
   "cell_type": "code",
   "execution_count": 46,
   "id": "413b85b0-dcc4-4d8a-b5ea-3edac8a13d7b",
   "metadata": {},
   "outputs": [
    {
     "name": "stdout",
     "output_type": "stream",
     "text": [
      "[[-4.87696699e-01  1.61464754e-01 -3.39644495e-04  5.93243367e-02]\n",
      " [-4.98382326e-01  1.12095603e-01  8.77690937e-03  1.15506307e-01]\n",
      " [-5.09905112e-01  5.66429201e-02  7.79949303e-03  1.55549739e-01]\n",
      " ...\n",
      " [-3.34520918e-01  2.84249205e-01 -4.55687905e-02 -6.24236099e-03]\n",
      " [-3.40232346e-01  2.11343724e-01 -5.65040659e-02 -3.54670487e-03]\n",
      " [-3.54470880e-01  1.44567909e-01 -5.50009885e-02  4.28006853e-03]]\n"
     ]
    }
   ],
   "source": [
    "X_test_pca = pca.transform(scaled_test_data)\n",
    "print(X_test_pca)"
   ]
  },
  {
   "cell_type": "markdown",
   "id": "8d0f70c3-e623-4881-b9ce-7ab2d5b110c5",
   "metadata": {},
   "source": [
    "## Creating Deep Q Network"
   ]
  },
  {
   "cell_type": "markdown",
   "id": "e3bec134-e426-4cff-a411-8759bb5227bd",
   "metadata": {},
   "source": [
    "### Setting up environment"
   ]
  },
  {
   "cell_type": "code",
   "execution_count": 63,
   "id": "f96e0933-e0dd-42ce-8bf1-7ab47f74011d",
   "metadata": {},
   "outputs": [],
   "source": [
    "class environment:\n",
    "\n",
    "    def __init__(self, price_data, state_data):\n",
    "        self.data = price_data\n",
    "        self.scaled_state_data = state_data\n",
    "        self.roc = roc\n",
    "        self.balance = 100\n",
    "        self.holding = 0\n",
    "        self.index = 0\n",
    "        self.buy_price = None\n",
    "        self.sell_price = None\n",
    "        self.num_shares = 0\n",
    "        self.trend = None\n",
    "        self.balance_history = []\n",
    "        self.price = None\n",
    "        self.rewards = []\n",
    "        self.total_reward = 0\n",
    "        self.total = 100\n",
    "        self.trades = []\n",
    "        self.action_history = []\n",
    "\n",
    "    def step(self, action):\n",
    "\n",
    "        \n",
    "        trade = [] \n",
    "        if self.index < len(self.data) - 7:\n",
    "            data = self.data\n",
    "            index = self.index\n",
    "            old_net_worth = self.get_net_worth()\n",
    "                \n",
    "            \n",
    "            total = self.get_net_worth()\n",
    "            holding = (self.num_shares * data.iloc[self.index]) / total\n",
    "            trade.append(total)\n",
    "            trade.append(holding)\n",
    "            trade.append(action)\n",
    "            self.action_history.append(action)\n",
    "            sold_bought = action - holding\n",
    "            if action > holding:\n",
    "                to_buy = (action - holding) * total\n",
    "                new_balance = self.balance - to_buy\n",
    "                if new_balance >= 0:\n",
    "                    \n",
    "                    new_shares = to_buy / self.data.iloc[self.index]\n",
    "                    self.balance -= to_buy\n",
    "                    self.num_shares += new_shares\n",
    "            elif action < holding:\n",
    "                to_sell = (holding - action) * total\n",
    "                shares_to_sell = to_sell / data.iloc[self.index]\n",
    "                new_num_shares = self.num_shares - shares_to_sell\n",
    "                if new_num_shares >= 0:\n",
    "                    self.num_shares = new_num_shares\n",
    "                    self.balance += to_sell\n",
    "            \n",
    "            annual_rate = 0.054\n",
    "            # Daily risk-free rate\n",
    "            daily_rate = annual_rate / 365\n",
    "            self.balance = self.balance * (1+ daily_rate)\n",
    "            \n",
    "            \n",
    "                \n",
    "           \n",
    "                \n",
    "            \n",
    "            trade.append(self.num_shares)\n",
    "            trade.append(self.balance)\n",
    "            \n",
    "            trade.append(self.data.iloc[self.index])\n",
    "            self.index += 1\n",
    "            \n",
    "            new_net_worth = self.get_net_worth()\n",
    "            self.balance_history.append(old_net_worth)\n",
    "\n",
    "            # The reward is the change in value\n",
    "            reward = new_net_worth - old_net_worth\n",
    "            \n",
    "            self.trades.append(trade)\n",
    "            self.total_reward += reward\n",
    "            self.rewards.append(self.total_reward)\n",
    "            return (reward, False)\n",
    "        else:\n",
    "            return (0, True)\n",
    "        \n",
    "    def reset(self):\n",
    "        self.balance = 100\n",
    "        self.holding = 0\n",
    "        self.index = 0\n",
    "        self.buy_price = None\n",
    "        self.sell_price = None\n",
    "        self.num_shares = 0\n",
    "        self.trend = None\n",
    "        self.balance_history = []\n",
    "        self.trades = []\n",
    "    \n",
    "    def get_net_worth(self):\n",
    "        \n",
    "        total = self.balance + (self.num_shares * self.data.iloc[self.index])\n",
    "        return total\n",
    "        \n",
    "    def get_state(self):\n",
    "        state = self.scaled_state_data[self.index].tolist()\n",
    "        return state\n"
   ]
  },
  {
   "cell_type": "markdown",
   "id": "13531b5a-afd6-4e0e-84e5-3ef83947a437",
   "metadata": {},
   "source": [
    "### Training the model"
   ]
  },
  {
   "cell_type": "code",
   "execution_count": 90,
   "id": "9614dbdf-5454-4928-9a09-7acb75e2a75e",
   "metadata": {},
   "outputs": [],
   "source": [
    "import torch\n",
    "import torch.nn as nn\n",
    "import torch.optim as optim\n",
    "import random\n",
    "import numpy as np\n",
    "from collections import deque\n",
    "\n",
    "# Create the Stock Environment\n",
    "env = environment(train_close, X_train_pca)\n",
    "\n",
    "# Neural network model for approximating Q-values\n",
    "class DQN(nn.Module):\n",
    "    def __init__(self, input_dim, output_dim):\n",
    "        super(DQN, self).__init__()\n",
    "        self.fc1 = nn.Linear(input_dim, 128)\n",
    "        self.fc2 = nn.Linear(128, 128)\n",
    "        self.fc3 = nn.Linear(128, output_dim)\n",
    "    \n",
    "    def forward(self, x):\n",
    "        x = torch.relu(self.fc1(x))\n",
    "        x = torch.relu(self.fc2(x))\n",
    "        return self.fc3(x)\n",
    "\n",
    "# Hyperparameters\n",
    "learning_rate = 0.001\n",
    "gamma = 0.99\n",
    "epsilon = 1.0\n",
    "epsilon_min = 0.01\n",
    "epsilon_decay = 0.995\n",
    "batch_size = 64\n",
    "target_update_freq = 1000\n",
    "memory_size = 10000\n",
    "episodes = 50\n",
    "ACTIONS = [0.0,0.1,0.2,0.3,0.4,0.5,0.6,0.7,0.8,0.9,1.0]\n",
    "\n",
    "# Initialize Q-networks\n",
    "input_dim = 4\n",
    "output_dim = 11\n",
    "policy_net = DQN(input_dim, output_dim)\n",
    "target_net = DQN(input_dim, output_dim)\n",
    "target_net.load_state_dict(policy_net.state_dict())\n",
    "target_net.eval()\n",
    "\n",
    "optimizer = optim.Adam(policy_net.parameters(), lr=learning_rate)\n",
    "memory = deque(maxlen=memory_size)\n",
    "\n",
    "# Function to choose action using epsilon-greedy policy\n",
    "def select_action(state, epsilon):\n",
    "    if random.random() < epsilon:\n",
    "        return random.randint(0, len(ACTIONS) - 1)  # Explore\n",
    "    else:\n",
    "        state = torch.FloatTensor(state).unsqueeze(0)\n",
    "        q_values = policy_net(state)\n",
    "        return torch.argmax(q_values).item()\n",
    "        \n",
    "\n",
    "# Function to optimize the model using experience replay\n",
    "def optimize_model():\n",
    "    if len(memory) < batch_size:\n",
    "        return\n",
    "    \n",
    "    batch = random.sample(memory, batch_size)\n",
    "    state_batch, action_batch, reward_batch, next_state_batch = zip(*batch)\n",
    "\n",
    "    state_batch = torch.FloatTensor(state_batch)\n",
    " \n",
    "    action_batch = torch.LongTensor(action_batch).unsqueeze(1)\n",
    "    reward_batch = torch.FloatTensor(reward_batch)\n",
    "    next_state_batch = torch.FloatTensor(next_state_batch)\n",
    "    \n",
    "\n",
    "    # Compute Q-values for current states\n",
    "    q_values = policy_net(state_batch).gather(1, action_batch).squeeze()\n",
    "\n",
    "    # Compute target Q-values using the target network\n",
    "    with torch.no_grad():\n",
    "        max_next_q_values = target_net(next_state_batch).max(1)[0]\n",
    "        target_q_values = reward_batch + gamma * max_next_q_values\n",
    "\n",
    "    loss = nn.MSELoss()(q_values, target_q_values)\n",
    "\n",
    "    optimizer.zero_grad()\n",
    "    loss.backward()\n",
    "    optimizer.step()\n",
    "\n",
    "# Main training loop\n",
    "steps_done = 0\n",
    "\n",
    "for episode in range(episodes):\n",
    "    state = env.get_state()\n",
    "    done = False\n",
    "    i = 0\n",
    "    for i in range(len(train_data) - 1):\n",
    "        # Select action\n",
    "        action_index = select_action(state, epsilon)\n",
    "       \n",
    "        action = ACTIONS[action_index]\n",
    "        reward, done = env.step(action)\n",
    "        \n",
    "        next_state = env.get_state()\n",
    "        # Store transition in memory\n",
    "        memory.append((state, action_index, reward, next_state))\n",
    "        \n",
    "        # Update state\n",
    "        state = next_state\n",
    "\n",
    "        # Optimize model\n",
    "        optimize_model()\n",
    "        steps_done += 1\n",
    "\n",
    "        # Update target network periodically\n",
    "        if steps_done % target_update_freq == 0:\n",
    "            target_net.load_state_dict(policy_net.state_dict())\n",
    "\n",
    "\n",
    "    # Decay epsilon\n",
    "    epsilon = max(epsilon_min, epsilon_decay * epsilon)\n",
    "    env.reset()\n",
    "    #print(episode)"
   ]
  },
  {
   "cell_type": "markdown",
   "id": "8d1060d8-981e-4418-ba7c-f941a4feb9bb",
   "metadata": {},
   "source": [
    "## Testing"
   ]
  },
  {
   "cell_type": "code",
   "execution_count": 93,
   "id": "372d248f-a3b2-4eb2-960f-b367a5856f1d",
   "metadata": {},
   "outputs": [],
   "source": [
    "def test(env):\n",
    "    \n",
    "    # Reset the environment\n",
    "    env.reset()  \n",
    "    state = env.get_state()\n",
    "    step = 0\n",
    "    done = False\n",
    "    action_history = []\n",
    "    sum = 0\n",
    "    \n",
    "    while env.index < (len(env.scaled_state_data) - 7):\n",
    "       \n",
    "     \n",
    "        state_tensor = torch.FloatTensor(state).unsqueeze(0)\n",
    "        with torch.no_grad():\n",
    "            q_values = policy_net(state_tensor)\n",
    "            action_index = torch.argmax(q_values).item()\n",
    "            \n",
    "            action = ACTIONS[action_index]\n",
    "\n",
    "        reward, done = env.step(action)\n",
    "        sum += 1\n",
    "        \n",
    "        state = env.get_state()\n",
    "\n",
    "        if done:\n",
    "            break\n",
    "   "
   ]
  },
  {
   "cell_type": "code",
   "execution_count": 94,
   "id": "516acf09-046d-48d9-8339-052e7e55e830",
   "metadata": {},
   "outputs": [],
   "source": [
    "test_env = environment(test_close, X_test_pca)\n",
    "test(test_env)"
   ]
  },
  {
   "cell_type": "markdown",
   "id": "4f754914-f782-45ef-98c8-4e6d60db3fa9",
   "metadata": {},
   "source": [
    "### Assigning history values to dates"
   ]
  },
  {
   "cell_type": "code",
   "execution_count": 95,
   "id": "a2635085-52ca-495c-befc-a9a12d9d346d",
   "metadata": {},
   "outputs": [
    {
     "name": "stdout",
     "output_type": "stream",
     "text": [
      "               Balance\n",
      "Date                  \n",
      "2022-04-07  100.000000\n",
      "2022-04-08   99.411952\n",
      "2022-04-11   98.151013\n",
      "2022-04-12   98.165534\n",
      "2022-04-13   98.180057\n",
      "...                ...\n",
      "2024-11-07  116.793031\n",
      "2024-11-08  117.892260\n",
      "2024-11-11  118.925280\n",
      "2024-11-12  116.634204\n",
      "2024-11-13  117.051910\n",
      "\n",
      "[680 rows x 1 columns]\n"
     ]
    }
   ],
   "source": [
    "dates = pd.bdate_range(start='2022-04-07', periods=len(test_env.balance_history))\n",
    "balances = pd.DataFrame({'Date': dates, 'Balance': test_env.balance_history})\n",
    "balances.set_index('Date', inplace=True)\n",
    "print(balances)"
   ]
  },
  {
   "cell_type": "code",
   "execution_count": 96,
   "id": "aabfe3a9-cd42-44b2-a0b8-849ff38d60af",
   "metadata": {},
   "outputs": [
    {
     "name": "stdout",
     "output_type": "stream",
     "text": [
      "0.1705190993032214\n"
     ]
    }
   ],
   "source": [
    "print((test_env.balance_history[-1] - test_env.balance_history[0]) / test_env.balance_history[0])"
   ]
  },
  {
   "cell_type": "markdown",
   "id": "0c6c2236-bc0e-414c-86bd-c12d5ca42e4a",
   "metadata": {},
   "source": [
    "### Plotting model performace against underlying stock price"
   ]
  },
  {
   "cell_type": "code",
   "execution_count": 97,
   "id": "a3b0cc93-3d5c-464d-b3f7-29ca8e94cbd2",
   "metadata": {},
   "outputs": [
    {
     "data": {
      "image/png": "[encoded data removed]",
      "text/plain": [
       "<Figure size 640x480 with 1 Axes>"
      ]
     },
     "metadata": {},
     "output_type": "display_data"
    }
   ],
   "source": [
    "plt.plot(balances, label=\"Balance\")\n",
    "plt.plot(test_data[\"Close\"] * 0.6, label=\"Close (scaled)\")\n",
    "plt.legend()\n",
    "plt.show()"
   ]
  }
 ],
 "metadata": {
  "kernelspec": {
   "display_name": "Python (base)",
   "language": "python",
   "name": "base"
  },
  "language_info": {
   "codemirror_mode": {
    "name": "ipython",
    "version": 3
   },
   "file_extension": ".py",
   "mimetype": "text/x-python",
   "name": "python",
   "nbconvert_exporter": "python",
   "pygments_lexer": "ipython3",
   "version": "3.12.9"
  }
 },
 "nbformat": 4,
 "nbformat_minor": 5
}
